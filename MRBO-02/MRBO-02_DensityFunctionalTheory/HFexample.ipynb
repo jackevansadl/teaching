{
 "cells": [
  {
   "cell_type": "code",
   "execution_count": 19,
   "metadata": {
    "tags": []
   },
   "outputs": [
    {
     "output_type": "stream",
     "name": "stdout",
     "text": "\nGeometry optimization cycle 1\nCartesian coordinates (Angstrom)\n Atom        New coordinates             dX        dY        dZ\n   H   0.000000   0.000000   0.000000    0.000000  0.000000  0.000000\n   H   0.000000   0.000000   1.000000    0.000000  0.000000  0.000000\nconverged SCF energy = -1.10015376487841\n--------------- SCF_Scanner gradients ---------------\n         x                y                z\n0 H    -0.0000000000    -0.0000000000    -0.0950813866\n1 H     0.0000000000     0.0000000000     0.0950813866\n----------------------------------------------\ncycle 1: E = -1.10015376488  dE = -1.10015  norm(grad) = 0.134465\n\nGeometry optimization cycle 2\nCartesian coordinates (Angstrom)\n Atom        New coordinates             dX        dY        dZ\n   H   0.000000   0.000000   0.071125    0.000000  0.000000  0.071125\n   H   0.000000   0.000000   0.928875    0.000000  0.000000 -0.071125\n\nWARN: Large deviations found between the input molecule and the molecule from chkfile\nInitial guess density matrix may have large error.\n\nconverged SCF energy = -1.12178820754968\n--------------- SCF_Scanner gradients ---------------\n         x                y                z\n0 H    -0.0000000000    -0.0000000000    -0.0602368536\n1 H     0.0000000000     0.0000000000     0.0602368536\n----------------------------------------------\ncycle 2: E = -1.12178820755  dE = -0.0216344  norm(grad) = 0.0851878\n\nGeometry optimization cycle 3\nCartesian coordinates (Angstrom)\n Atom        New coordinates             dX        dY        dZ\n   H   0.000000   0.000000   0.190727    0.000000  0.000000  0.119601\n   H   0.000000   0.000000   0.809273    0.000000  0.000000 -0.119601\n\nWARN: Large deviations found between the input molecule and the molecule from chkfile\nInitial guess density matrix may have large error.\n\nconverged SCF energy = -1.11276585403939\n--------------- SCF_Scanner gradients ---------------\n         x                y                z\n0 H    -0.0000000000    -0.0000000000     0.1510285835\n1 H     0.0000000000     0.0000000000    -0.1510285835\n----------------------------------------------\ncycle 3: E = -1.11276585404  dE = 0.00902235  norm(grad) = 0.213587\n\nGeometry optimization cycle 4\nCartesian coordinates (Angstrom)\n Atom        New coordinates             dX        dY        dZ\n   H   0.000000   0.000000   0.111357    0.000000  0.000000 -0.079370\n   H   0.000000   0.000000   0.888643    0.000000  0.000000  0.079370\n\nWARN: Large deviations found between the input molecule and the molecule from chkfile\nInitial guess density matrix may have large error.\n\nconverged SCF energy = -1.12816623738572\n--------------- SCF_Scanner gradients ---------------\n         x                y                z\n0 H     0.0000000000    -0.0000000000    -0.0203086071\n1 H    -0.0000000000     0.0000000000     0.0203086071\n----------------------------------------------\ncycle 4: E = -1.12816623739  dE = -0.0154004  norm(grad) = 0.0287207\n\nGeometry optimization cycle 5\nCartesian coordinates (Angstrom)\n Atom        New coordinates             dX        dY        dZ\n   H   0.000000   0.000000   0.131818    0.000000  0.000000  0.020460\n   H   0.000000   0.000000   0.868182    0.000000  0.000000 -0.020460\n\nWARN: Large deviations found between the input molecule and the molecule from chkfile\nInitial guess density matrix may have large error.\n\nconverged SCF energy = -1.12864767363778\n--------------- SCF_Scanner gradients ---------------\n         x                y                z\n0 H    -0.0000000000    -0.0000000000     0.0090986936\n1 H     0.0000000000     0.0000000000    -0.0090986936\n----------------------------------------------\ncycle 5: E = -1.12864767364  dE = -0.000481436  norm(grad) = 0.0128675\n\nGeometry optimization cycle 6\nCartesian coordinates (Angstrom)\n Atom        New coordinates             dX        dY        dZ\n   H   0.000000   0.000000   0.125487    0.000000  0.000000 -0.006331\n   H   0.000000   0.000000   0.874513    0.000000  0.000000  0.006331\n\nWARN: Large deviations found between the input molecule and the molecule from chkfile\nInitial guess density matrix may have large error.\n\nconverged SCF energy = -1.12874529632971\n--------------- SCF_Scanner gradients ---------------\n         x                y                z\n0 H    -0.0000000000    -0.0000000000    -0.0008086733\n1 H     0.0000000000     0.0000000000     0.0008086733\n----------------------------------------------\ncycle 6: E = -1.12874529633  dE = -9.76227e-05  norm(grad) = 0.00114364\n\nGeometry optimization cycle 7\nCartesian coordinates (Angstrom)\n Atom        New coordinates             dX        dY        dZ\n   H   0.000000   0.000000   0.126004    0.000000  0.000000  0.000517\n   H   0.000000   0.000000   0.873996    0.000000  0.000000 -0.000517\nconverged SCF energy = -1.12874611492165\n--------------- SCF_Scanner gradients ---------------\n         x                y                z\n0 H    -0.0000000000    -0.0000000000    -0.0000286823\n1 H     0.0000000000     0.0000000000     0.0000286823\n----------------------------------------------\ncycle 7: E = -1.12874611492  dE = -8.18592e-07  norm(grad) = 4.05629e-05\n0.747992179012305\n"
    }
   ],
   "source": [
    "from pyscf import gto, scf\n",
    "from pyscf.geomopt.berny_solver import optimize\n",
    "mol = gto.M(atom='H 0 0 0; H 0 0 1.0', basis='sto-3g')\n",
    "mf = scf.RHF(mol)\n",
    "mol_eq = optimize(mf)\n",
    "#print bond length\n",
    "print((mol_eq.atom_coords()[1,2]-mol_eq.atom_coords()[0,2])*0.529177)"
   ]
  },
  {
   "cell_type": "code",
   "execution_count": 21,
   "metadata": {
    "tags": []
   },
   "outputs": [
    {
     "output_type": "stream",
     "name": "stdout",
     "text": "\nGeometry optimization cycle 1\nCartesian coordinates (Angstrom)\n Atom        New coordinates             dX        dY        dZ\n   H   0.000000   0.000000   0.000000    0.000000  0.000000  0.000000\n   H   0.000000   0.000000   1.000000    0.000000  0.000000  0.000000\nconverged SCF energy = -1.08490030447528\n--------------- SCF_Scanner gradients ---------------\n         x                y                z\n0 H     0.0000000000    -0.0000000000    -0.1152205109\n1 H     0.0000000000     0.0000000000     0.1152205109\n----------------------------------------------\ncycle 1: E = -1.08490030448  dE = -1.0849  norm(grad) = 0.162946\n\nGeometry optimization cycle 2\nCartesian coordinates (Angstrom)\n Atom        New coordinates             dX        dY        dZ\n   H   0.000000   0.000000   0.079377    0.000000  0.000000  0.079377\n   H   0.000000   0.000000   0.920623    0.000000  0.000000 -0.079377\n\nWARN: Large deviations found between the input molecule and the molecule from chkfile\nInitial guess density matrix may have large error.\n\nconverged SCF energy = -1.11367346642034\n--------------- SCF_Scanner gradients ---------------\n         x                y                z\n0 H     0.0000000000    -0.0000000000    -0.0688112589\n1 H     0.0000000000     0.0000000000     0.0688112589\n----------------------------------------------\ncycle 2: E = -1.11367346642  dE = -0.0287732  norm(grad) = 0.0973138\n\nGeometry optimization cycle 3\nCartesian coordinates (Angstrom)\n Atom        New coordinates             dX        dY        dZ\n   H   0.000000   0.000000   0.194228    0.000000  0.000000  0.114852\n   H   0.000000   0.000000   0.805772    0.000000  0.000000 -0.114852\n\nWARN: Large deviations found between the input molecule and the molecule from chkfile\nInitial guess density matrix may have large error.\n\nconverged SCF energy = -1.10373111294885\n--------------- SCF_Scanner gradients ---------------\n         x                y                z\n0 H     0.0000000000     0.0000000000     0.1697401261\n1 H    -0.0000000000    -0.0000000000    -0.1697401261\n----------------------------------------------\ncycle 3: E = -1.10373111295  dE = 0.00994235  norm(grad) = 0.240049\n\nGeometry optimization cycle 4\nCartesian coordinates (Angstrom)\n Atom        New coordinates             dX        dY        dZ\n   H   0.000000   0.000000   0.117720    0.000000  0.000000 -0.076509\n   H   0.000000   0.000000   0.882280    0.000000  0.000000  0.076509\n\nWARN: Large deviations found between the input molecule and the molecule from chkfile\nInitial guess density matrix may have large error.\n\nconverged SCF energy = -1.12059092651204\n--------------- SCF_Scanner gradients ---------------\n         x                y                z\n0 H     0.0000000000    -0.0000000000    -0.0229922871\n1 H     0.0000000000    -0.0000000000     0.0229922871\n----------------------------------------------\ncycle 4: E = -1.12059092651  dE = -0.0168598  norm(grad) = 0.032516\n\nGeometry optimization cycle 5\nCartesian coordinates (Angstrom)\n Atom        New coordinates             dX        dY        dZ\n   H   0.000000   0.000000   0.136959    0.000000  0.000000  0.019239\n   H   0.000000   0.000000   0.863041    0.000000  0.000000 -0.019239\n\nWARN: Large deviations found between the input molecule and the molecule from chkfile\nInitial guess density matrix may have large error.\n\nconverged SCF energy = -1.1211197184405\n--------------- SCF_Scanner gradients ---------------\n         x                y                z\n0 H    -0.0000000000    -0.0000000000     0.0097601477\n1 H    -0.0000000000    -0.0000000000    -0.0097601477\n----------------------------------------------\ncycle 5: E = -1.12111971844  dE = -0.000528792  norm(grad) = 0.0138029\n\nGeometry optimization cycle 6\nCartesian coordinates (Angstrom)\n Atom        New coordinates             dX        dY        dZ\n   H   0.000000   0.000000   0.131225    0.000000  0.000000 -0.005733\n   H   0.000000   0.000000   0.868775    0.000000  0.000000  0.005733\n\nWARN: Large deviations found between the input molecule and the molecule from chkfile\nInitial guess density matrix may have large error.\n\nconverged SCF energy = -1.12121502387965\n--------------- SCF_Scanner gradients ---------------\n         x                y                z\n0 H    -0.0000000000    -0.0000000000    -0.0008367629\n1 H     0.0000000000    -0.0000000000     0.0008367629\n----------------------------------------------\ncycle 6: E = -1.12121502388  dE = -9.53054e-05  norm(grad) = 0.00118336\n\nGeometry optimization cycle 7\nCartesian coordinates (Angstrom)\n Atom        New coordinates             dX        dY        dZ\n   H   0.000000   0.000000   0.131678    0.000000  0.000000  0.000453\n   H   0.000000   0.000000   0.868322    0.000000  0.000000 -0.000453\nconverged SCF energy = -1.12121576386701\n--------------- SCF_Scanner gradients ---------------\n         x                y                z\n0 H     0.0000000000    -0.0000000000    -0.0000273231\n1 H     0.0000000000    -0.0000000000     0.0000273231\n----------------------------------------------\ncycle 7: E = -1.12121576387  dE = -7.39987e-07  norm(grad) = 3.86407e-05\n0.7366435807657912\n"
    }
   ],
   "source": [
    "from pyscf import gto, scf\n",
    "from pyscf.geomopt.berny_solver import optimize\n",
    "mol = gto.M(atom='H 0 0 0; H 0 0 1.0', basis='sto-3g')\n",
    "mf = dft.RKS(mol)\n",
    "mf.xc = 'lda,vwn'\n",
    "mol_eq = optimize(mf)\n",
    "#print bond length\n",
    "print((mol_eq.atom_coords()[1,2]-mol_eq.atom_coords()[0,2])*0.529177)"
   ]
  },
  {
   "cell_type": "code",
   "execution_count": null,
   "metadata": {},
   "outputs": [],
   "source": []
  }
 ],
 "metadata": {
  "language_info": {
   "codemirror_mode": {
    "name": "ipython",
    "version": 3
   },
   "file_extension": ".py",
   "mimetype": "text/x-python",
   "name": "python",
   "nbconvert_exporter": "python",
   "pygments_lexer": "ipython3",
   "version": "3.7.4-final"
  },
  "orig_nbformat": 2,
  "kernelspec": {
   "name": "python3",
   "display_name": "Python 3"
  }
 },
 "nbformat": 4,
 "nbformat_minor": 2
}