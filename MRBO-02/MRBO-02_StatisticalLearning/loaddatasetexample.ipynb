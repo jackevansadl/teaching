{
 "cells": [
  {
   "cell_type": "code",
   "execution_count": 18,
   "metadata": {
    "tags": []
   },
   "outputs": [],
   "source": [
    "from matminer.datasets.convenience_loaders import load_jarvis_dft_3d\n",
    "\n",
    "df = load_jarvis_dft_3d()"
   ]
  },
  {
   "cell_type": "code",
   "execution_count": 26,
   "metadata": {
    "tags": []
   },
   "outputs": [],
   "source": [
    "data = df[[\"structure\", \"gap opt\"]][:10]\n",
    "bandgap = df[\"gap opt\"][:10]"
   ]
  },
  {
   "cell_type": "code",
   "execution_count": 20,
   "metadata": {},
   "outputs": [],
   "source": [
    "from matminer.featurizers.base import MultipleFeaturizer\n",
    "from matminer.featurizers import structure as sf\n",
    "from matminer.featurizers import composition as cf\n",
    "\n",
    "feature_calculators = MultipleFeaturizer([sf.DensityFeatures(), sf.StructuralComplexity(), sf.StructureComposition(featurizer=cf.ElementProperty.from_preset(\"magpie\"))])"
   ]
  },
  {
   "cell_type": "code",
   "execution_count": 27,
   "metadata": {
    "tags": []
   },
   "outputs": [
    {
     "output_type": "display_data",
     "data": {
      "text/plain": "HBox(children=(FloatProgress(value=0.0, description='MultipleFeaturizer', max=10.0, style=ProgressStyle(descri…",
      "application/vnd.jupyter.widget-view+json": {
       "version_major": 2,
       "version_minor": 0,
       "model_id": "c80bf5f0f9bd44da84e8f4f786e8ad15"
      }
     },
     "metadata": {}
    },
    {
     "output_type": "stream",
     "name": "stdout",
     "text": "\n"
    }
   ],
   "source": [
    "feature_labels = feature_calculators.feature_labels()\n",
    "data = feature_calculators.featurize_dataframe(data, col_id='structure')"
   ]
  },
  {
   "cell_type": "code",
   "execution_count": 28,
   "metadata": {
    "tags": []
   },
   "outputs": [
    {
     "output_type": "stream",
     "name": "stdout",
     "text": "Index(['structure', 'gap opt', 'density', 'vpa', 'packing fraction',\n       'structural complexity per atom', 'structural complexity per cell',\n       'MagpieData minimum Number', 'MagpieData maximum Number',\n       'MagpieData range Number',\n       ...\n       'MagpieData range GSmagmom', 'MagpieData mean GSmagmom',\n       'MagpieData avg_dev GSmagmom', 'MagpieData mode GSmagmom',\n       'MagpieData minimum SpaceGroupNumber',\n       'MagpieData maximum SpaceGroupNumber',\n       'MagpieData range SpaceGroupNumber', 'MagpieData mean SpaceGroupNumber',\n       'MagpieData avg_dev SpaceGroupNumber',\n       'MagpieData mode SpaceGroupNumber'],\n      dtype='object', length=139)\n"
    }
   ],
   "source": [
    "print(data.columns)"
   ]
  },
  {
   "cell_type": "code",
   "execution_count": 30,
   "metadata": {
    "tags": []
   },
   "outputs": [
    {
     "output_type": "stream",
     "name": "stdout",
     "text": "(10, 139)\n"
    }
   ],
   "source": [
    "print(data.shape)"
   ]
  },
  {
   "cell_type": "code",
   "execution_count": null,
   "metadata": {},
   "outputs": [],
   "source": []
  }
 ],
 "metadata": {
  "language_info": {
   "codemirror_mode": {
    "name": "ipython",
    "version": 3
   },
   "file_extension": ".py",
   "mimetype": "text/x-python",
   "name": "python",
   "nbconvert_exporter": "python",
   "pygments_lexer": "ipython3",
   "version": "3.7.4-final"
  },
  "orig_nbformat": 2,
  "kernelspec": {
   "name": "python3",
   "display_name": "Python 3"
  }
 },
 "nbformat": 4,
 "nbformat_minor": 2
}