{
 "cells": [
  {
   "cell_type": "code",
   "execution_count": 7,
   "metadata": {
    "tags": []
   },
   "outputs": [
    {
     "output_type": "stream",
     "name": "stdout",
     "text": "Index(['sepal length (cm)', 'sepal width (cm)', 'petal length (cm)',\n       'petal width (cm)'],\n      dtype='object')\n[[1.   0.   0.  ]\n [1.   0.   0.  ]\n [1.   0.   0.  ]\n [1.   0.   0.  ]\n [0.98 0.02 0.  ]\n [1.   0.   0.  ]\n [1.   0.   0.  ]\n [1.   0.   0.  ]\n [1.   0.   0.  ]\n [1.   0.   0.  ]]\n"
    }
   ],
   "source": [
    "from sklearn.datasets import load_iris\n",
    "from sklearn.ensemble import RandomForestClassifier\n",
    "import pandas as pd\n",
    "import numpy as np\n",
    "\n",
    "#load dataset\n",
    "iris = load_iris()\n",
    "#use pandas dataframes to manage data\n",
    "df = pd.DataFrame(iris.data, columns=iris.feature_names)\n",
    "#make a new column which is what we what to predict (the species)\n",
    "df['species'] = pd.Categorical.from_codes(iris.target, iris.target_names)\n",
    "\n",
    "#make a training set from 75% of the data\n",
    "df['train'] = np.random.uniform(0, 1, len(df)) <= .75\n",
    "train, test = df[df['train']==True], df[df['train']==False]\n",
    "\n",
    "#use the first 4 columns as the features\n",
    "features = df.columns[:4]\n",
    "print(features)\n",
    "\n",
    "# get the species names as int\n",
    "y = pd.factorize(train['species'])[0]\n",
    "\n",
    "#initilize random forest model\n",
    "clf = RandomForestClassifier(n_jobs=2, random_state=1, n_estimators=100)\n",
    "\n",
    "#train the RF\n",
    "clf.fit(train[features], y)\n",
    "\n",
    "\n",
    "#test RF for the first 10\n",
    "print(clf.predict_proba(test[features])[0:10])\n",
    "\n"
   ]
  },
  {
   "cell_type": "code",
   "execution_count": 6,
   "metadata": {
    "tags": []
   },
   "outputs": [
    {
     "output_type": "stream",
     "name": "stdout",
     "text": "2     setosa\n6     setosa\n9     setosa\n11    setosa\n17    setosa\n20    setosa\n26    setosa\n30    setosa\n32    setosa\n39    setosa\nName: species, dtype: category\nCategories (3, object): [setosa, versicolor, virginica]\n"
    }
   ],
   "source": [
    "print(test['species'][0:10])"
   ]
  },
  {
   "cell_type": "code",
   "execution_count": null,
   "metadata": {},
   "outputs": [],
   "source": []
  }
 ],
 "metadata": {
  "language_info": {
   "codemirror_mode": {
    "name": "ipython",
    "version": 3
   },
   "file_extension": ".py",
   "mimetype": "text/x-python",
   "name": "python",
   "nbconvert_exporter": "python",
   "pygments_lexer": "ipython3",
   "version": "3.7.4-final"
  },
  "orig_nbformat": 2,
  "kernelspec": {
   "name": "python3",
   "display_name": "Python 3"
  }
 },
 "nbformat": 4,
 "nbformat_minor": 2
}