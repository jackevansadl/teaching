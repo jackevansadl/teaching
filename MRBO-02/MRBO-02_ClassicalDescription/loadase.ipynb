{
 "cells": [
  {
   "cell_type": "code",
   "execution_count": 1,
   "metadata": {},
   "outputs": [
    {
     "output_type": "stream",
     "name": "stdout",
     "text": "Full Formula (H3 N1)\nReduced Formula: H3N\nCharge = 0, Spin Mult = 1\nSites (4)\n0 N    -2.660370     1.284200    -0.018510\n1 H    -1.617260     1.279000     0.001350\n2 H    -2.998390     1.973540     0.687920\n3 H    -2.998390     0.337140     0.259560\n"
    }
   ],
   "source": [
    "import pymatgen as pmg\n",
    "from pymatgen.core.structure import Molecule\n",
    "\n",
    "\n",
    "\n",
    "molecule = Molecule.from_file(\"./NH3.xyz\")\n",
    "\n",
    "print(molecule)\n"
   ]
  },
  {
   "cell_type": "code",
   "execution_count": 2,
   "metadata": {},
   "outputs": [],
   "source": [
    "from pymatgen.symmetry.analyzer import PointGroupAnalyzer\n",
    "\n",
    "\n",
    "\n"
   ]
  },
  {
   "cell_type": "code",
   "execution_count": null,
   "metadata": {},
   "outputs": [],
   "source": []
  }
 ],
 "metadata": {
  "language_info": {
   "codemirror_mode": {
    "name": "ipython",
    "version": 3
   },
   "file_extension": ".py",
   "mimetype": "text/x-python",
   "name": "python",
   "nbconvert_exporter": "python",
   "pygments_lexer": "ipython3",
   "version": "3.7.4-final"
  },
  "orig_nbformat": 2,
  "kernelspec": {
   "name": "python3",
   "display_name": "Python 3"
  }
 },
 "nbformat": 4,
 "nbformat_minor": 2
}