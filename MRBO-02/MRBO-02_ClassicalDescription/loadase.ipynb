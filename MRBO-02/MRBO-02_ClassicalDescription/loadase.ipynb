{
 "cells": [
  {
   "cell_type": "code",
   "execution_count": 5,
   "metadata": {},
   "outputs": [
    {
     "output_type": "stream",
     "name": "stdout",
     "text": "Full Formula (H3 N1)\nReduced Formula: H3N\nCharge = 0, Spin Mult = 1\nSites (4)\n0 N    -2.660370     1.284200    -0.018510\n1 H    -1.617260     1.279000     0.001350\n2 H    -2.998390     1.973540     0.687920\n3 H    -2.998390     0.337140     0.259560\n"
    }
   ],
   "source": [
    "import pymatgen as pmg\n",
    "from pymatgen.core.structure import Molecule\n",
    "\n",
    "\n",
    "\n",
    "molecule = Molecule.from_file(\"./NH3.xyz\")\n",
    "\n",
    "print(molecule)\n"
   ]
  },
  {
   "cell_type": "code",
   "execution_count": 6,
   "metadata": {},
   "outputs": [
    {
     "output_type": "stream",
     "name": "stdout",
     "text": "C3v\n{'eq_sets': defaultdict(<class 'set'>, {1: {1, 2, 3}, 0: {0}}), 'sym_ops': defaultdict(<class 'dict'>, {1: {3: array([[-0.33333239,  0.67050621,  0.66280536],\n       [-0.90925877, -0.4144963 , -0.03796448],\n       [ 0.24927495, -0.61531638,  0.7478287 ]]), 2: array([[-0.33333141,  0.67050313,  0.66280896],\n       [ 0.67050313,  0.66281867, -0.3333121 ],\n       [ 0.66280896, -0.3333121 ,  0.67051273]]), 1: array([[1., 0., 0.],\n       [0., 1., 0.],\n       [0., 0., 1.]])}, 3: {1: array([[-0.33333239, -0.90925877,  0.24927495],\n       [ 0.67050621, -0.4144963 , -0.61531638],\n       [ 0.66280536, -0.03796448,  0.7478287 ]]), 2: array([[-0.33333239,  0.67050621,  0.66280536],\n       [-0.90925877, -0.4144963 , -0.03796448],\n       [ 0.24927495, -0.61531638,  0.7478287 ]]), 3: array([[1., 0., 0.],\n       [0., 1., 0.],\n       [0., 0., 1.]])}, 2: {1: array([[-0.33333141,  0.67050313,  0.66280896],\n       [ 0.67050313,  0.66281867, -0.3333121 ],\n       [ 0.66280896, -0.3333121 ,  0.67051273]]), 3: array([[-0.33333239, -0.90925877,  0.24927495],\n       [ 0.67050621, -0.4144963 , -0.61531638],\n       [ 0.66280536, -0.03796448,  0.7478287 ]]), 2: array([[1., 0., 0.],\n       [0., 1., 0.],\n       [0., 0., 1.]])}, 0: {0: array([[1., 0., 0.],\n       [0., 1., 0.],\n       [0., 0., 1.]])}})}\n"
    }
   ],
   "source": [
    "from pymatgen.symmetry.analyzer import PointGroupAnalyzer\n",
    "\n",
    "pga = PointGroupAnalyzer(molecule)\n",
    "\n",
    "print(pga.get_pointgroup())\n",
    "\n",
    "\n",
    "print(pga.symmetrize_molecule())"
   ]
  },
  {
   "cell_type": "code",
   "execution_count": null,
   "metadata": {},
   "outputs": [],
   "source": []
  }
 ],
 "metadata": {
  "language_info": {
   "codemirror_mode": {
    "name": "ipython",
    "version": 3
   },
   "file_extension": ".py",
   "mimetype": "text/x-python",
   "name": "python",
   "nbconvert_exporter": "python",
   "pygments_lexer": "ipython3",
   "version": "3.7.4-final"
  },
  "orig_nbformat": 2,
  "kernelspec": {
   "name": "python3",
   "display_name": "Python 3"
  }
 },
 "nbformat": 4,
 "nbformat_minor": 2
}