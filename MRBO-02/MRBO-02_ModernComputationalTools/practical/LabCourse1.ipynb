{
 "cells": [
  {
   "cell_type": "markdown",
   "metadata": {},
   "source": [
    "Task 1: Functions\n",
    "Define a function that prints the larger of two inputs.\n",
    "Define a function to add two numbers and return a float.\n",
    "Define a function to raise a (only) a floating point number to an integer power.\n",
    "Using some of the above functions…\n",
    "Define a function that computes the hypotenuse of a triangle."
   ]
  },
  {
   "cell_type": "code",
   "execution_count": 25,
   "metadata": {},
   "outputs": [
    {
     "name": "stdout",
     "output_type": "stream",
     "text": [
      "2\n"
     ]
    }
   ],
   "source": [
    "def larger(a,b):\n",
    "    if a>b:\n",
    "        print(a)\n",
    "    elif b>a:\n",
    "        print(b)\n",
    "    else: print('error')\n",
    "larger(1.2,2)"
   ]
  },
  {
   "cell_type": "code",
   "execution_count": 8,
   "metadata": {},
   "outputs": [
    {
     "name": "stdout",
     "output_type": "stream",
     "text": [
      "3.0\n"
     ]
    }
   ],
   "source": [
    "def sum(a,b):\n",
    "    x=a+b\n",
    "    return float(x)\n",
    "print(sum(1,2))"
   ]
  },
  {
   "cell_type": "code",
   "execution_count": 12,
   "metadata": {},
   "outputs": [
    {
     "name": "stdout",
     "output_type": "stream",
     "text": [
      "4.41\n"
     ]
    }
   ],
   "source": [
    "def pot(a,b):  \n",
    "    x=a**int(b)\n",
    "    return x \n",
    "print(pot(2.1,2))"
   ]
  },
  {
   "cell_type": "code",
   "execution_count": 14,
   "metadata": {},
   "outputs": [
    {
     "name": "stdout",
     "output_type": "stream",
     "text": [
      "2.0\n"
     ]
    }
   ],
   "source": [
    "def hypothenuse(a,b):\n",
    "    c=(sum(pot(a,2),pot(b,2)))**0.5\n",
    "    return c\n",
    "print(hypothenuse(2**0.5,2**0.5))"
   ]
  },
  {
   "cell_type": "markdown",
   "metadata": {},
   "source": [
    "Task 2: Strings and Loops\n",
    "\n",
    "Build a string defined as s by defining and adding 4 seperate strings “is” , “a”, “this” and “sentence” in the correct order.\n",
    "Capitalise the first letter of each of the words.\n",
    "Print the first letter of each word.\n",
    "\n",
    "Define a loop that prints 10 strings with names \"filename_0\", \"filename_1\", ... \"filename_9\".\n",
    "\n"
   ]
  },
  {
   "cell_type": "code",
   "execution_count": 34,
   "metadata": {},
   "outputs": [
    {
     "name": "stdout",
     "output_type": "stream",
     "text": [
      "This Is A Sentence\n",
      "T\n",
      "I\n",
      "A\n",
      "S\n",
      "ThisIsASentence\n",
      "t , i , a , s\n"
     ]
    }
   ],
   "source": [
    "a='this '\n",
    "b='is '\n",
    "c='a '\n",
    "d='sentence'\n",
    "s=a+b+c+d\n",
    "print(s.title())\n",
    "s=s.title()\n",
    "for word in s.split():\n",
    "    print(word[0])\n",
    "#alternative:\n",
    "a='this'\n",
    "b='is'\n",
    "c='a'\n",
    "d='sentence'\n",
    "s=a.capitalize()+b.capitalize()+c.capitalize()+d.capitalize()\n",
    "print(s)\n",
    "print(a[0],\",\",b[0],\",\",c[0],\",\",d[0])"
   ]
  },
  {
   "cell_type": "code",
   "execution_count": 1,
   "metadata": {},
   "outputs": [
    {
     "name": "stdout",
     "output_type": "stream",
     "text": [
      "filename_0\n",
      "filename_1\n",
      "filename_2\n",
      "filename_3\n",
      "filename_4\n",
      "filename_5\n",
      "filename_6\n",
      "filename_7\n",
      "filename_8\n",
      "filename_9\n"
     ]
    }
   ],
   "source": [
    "for a in range(10):\n",
    "    print(\"filename_{}\".format(a))"
   ]
  },
  {
   "cell_type": "markdown",
   "metadata": {},
   "source": [
    "Task3: Libraries\n",
    "\n",
    "Create a 3 by 3 identity matrix I, and a 3 by 3 array of random numbers.\n",
    "Check np.dot() of these two matrices.\n",
    "Plot a tanh function in the range -2pi to 2pi.\n",
    "Create a 1D array of 10,000 normally distributed random numbers t.\n",
    "Plot a histogram of the array.\n",
    "Produce a comma separated variable (csv) file (e.g. 2 columns in excel). Import this into Python and plot. Check against the plot from excel or other software.\n"
   ]
  },
  {
   "cell_type": "code",
   "execution_count": 14,
   "metadata": {},
   "outputs": [
    {
     "name": "stdout",
     "output_type": "stream",
     "text": [
      "[[1. 0. 0.]\n",
      " [0. 1. 0.]\n",
      " [0. 0. 1.]] \n",
      "\n",
      " [[0.62311419 0.38753072 0.74781973]\n",
      " [0.13368003 0.75991869 0.13495402]\n",
      " [0.56947178 0.05268112 0.71532   ]]\n",
      "\n",
      " [[0.62311419 0.38753072 0.74781973]\n",
      " [0.13368003 0.75991869 0.13495402]\n",
      " [0.56947178 0.05268112 0.71532   ]]\n"
     ]
    }
   ],
   "source": [
    "import numpy as np\n",
    "I=np.identity(3)\n",
    "R=np.random.rand(3,3)\n",
    "print(I, \"\\n\\n\", R)\n",
    "print(\"\\n\", np.dot(I,R))\n"
   ]
  },
  {
   "cell_type": "code",
   "execution_count": 22,
   "metadata": {},
   "outputs": [
    {
     "data": {
      "image/png": "[encoded data removed]",
      "text/plain": [
       "<Figure size 432x288 with 1 Axes>"
      ]
     },
     "metadata": {
      "needs_background": "light"
     },
     "output_type": "display_data"
    }
   ],
   "source": [
    "import matplotlib.pyplot as plt\n",
    "x = np.linspace(-2*np.pi,2*np.pi,10000)\n",
    "signal = np.tanh(x)\n",
    "plt.plot(x,signal)\n",
    "plt.xticks( [-6.28, -3.14,0, 3.14, 6.28],\n",
    "        [r'$-2\\pi$', r'$-\\pi$',0, r'$+\\pi$', r'$+2\\pi$'])\n",
    "plt.grid(True)"
   ]
  },
  {
   "cell_type": "code",
   "execution_count": 27,
   "metadata": {
    "scrolled": true
   },
   "outputs": [
    {
     "data": {
      "text/plain": [
       "(array([  4.,   3.,   3.,   3.,   1.,   6.,   3.,  13.,  10.,   8.,   7.,\n",
       "         14.,  16.,  17.,  31.,  19.,  11.,  33.,  42.,  47.,  44.,  58.,\n",
       "         64.,  55.,  59.,  90.,  88., 113., 104., 112., 124., 154., 132.,\n",
       "        147., 167., 190., 208., 204., 211., 208., 215., 239., 224., 234.,\n",
       "        268., 284., 235., 266., 252., 272., 270., 266., 238., 265., 230.,\n",
       "        260., 233., 215., 213., 195., 205., 208., 187., 166., 137., 143.,\n",
       "        135., 117., 119., 104.,  92.,  91.,  73.,  61.,  59.,  51.,  47.,\n",
       "         39.,  38.,  44.,  26.,  26.,  14.,  17.,  21.,  15.,   7.,  15.,\n",
       "          5.,  10.,   8.,   3.,   5.,   0.,   4.,   4.,   3.,   0.,   1.,\n",
       "          3.]),\n",
       " array([-3.22426952, -3.15812017, -3.09197081, -3.02582145, -2.95967209,\n",
       "        -2.89352274, -2.82737338, -2.76122402, -2.69507466, -2.62892531,\n",
       "        -2.56277595, -2.49662659, -2.43047723, -2.36432788, -2.29817852,\n",
       "        -2.23202916, -2.1658798 , -2.09973044, -2.03358109, -1.96743173,\n",
       "        -1.90128237, -1.83513301, -1.76898366, -1.7028343 , -1.63668494,\n",
       "        -1.57053558, -1.50438623, -1.43823687, -1.37208751, -1.30593815,\n",
       "        -1.23978879, -1.17363944, -1.10749008, -1.04134072, -0.97519136,\n",
       "        -0.90904201, -0.84289265, -0.77674329, -0.71059393, -0.64444458,\n",
       "        -0.57829522, -0.51214586, -0.4459965 , -0.37984714, -0.31369779,\n",
       "        -0.24754843, -0.18139907, -0.11524971, -0.04910036,  0.017049  ,\n",
       "         0.08319836,  0.14934772,  0.21549707,  0.28164643,  0.34779579,\n",
       "         0.41394515,  0.48009451,  0.54624386,  0.61239322,  0.67854258,\n",
       "         0.74469194,  0.81084129,  0.87699065,  0.94314001,  1.00928937,\n",
       "         1.07543872,  1.14158808,  1.20773744,  1.2738868 ,  1.34003615,\n",
       "         1.40618551,  1.47233487,  1.53848423,  1.60463359,  1.67078294,\n",
       "         1.7369323 ,  1.80308166,  1.86923102,  1.93538037,  2.00152973,\n",
       "         2.06767909,  2.13382845,  2.1999778 ,  2.26612716,  2.33227652,\n",
       "         2.39842588,  2.46457524,  2.53072459,  2.59687395,  2.66302331,\n",
       "         2.72917267,  2.79532202,  2.86147138,  2.92762074,  2.9937701 ,\n",
       "         3.05991945,  3.12606881,  3.19221817,  3.25836753,  3.32451689,\n",
       "         3.39066624]),\n",
       " <a list of 100 Patch objects>)"
      ]
     },
     "execution_count": 27,
     "metadata": {},
     "output_type": "execute_result"
    },
    {
     "data": {
      "image/png": "[encoded data removed]",
      "text/plain": [
       "<Figure size 432x288 with 1 Axes>"
      ]
     },
     "metadata": {
      "needs_background": "light"
     },
     "output_type": "display_data"
    }
   ],
   "source": [
    "t = np.random.normal(0,1,10000)\n",
    "plt.hist(t,100)"
   ]
  },
  {
   "cell_type": "code",
   "execution_count": 48,
   "metadata": {},
   "outputs": [
    {
     "data": {
      "text/plain": [
       "[<matplotlib.lines.Line2D at 0x22146f73dc8>]"
      ]
     },
     "execution_count": 48,
     "metadata": {},
     "output_type": "execute_result"
    },
    {
     "data": {
      "image/png": "[encoded data removed]",
      "text/plain": [
       "<Figure size 432x288 with 1 Axes>"
      ]
     },
     "metadata": {
      "needs_background": "light"
     },
     "output_type": "display_data"
    }
   ],
   "source": [
    "def csv_reader(filename, delimiter):\n",
    "    with open(filename, newline='') as csvfile:\n",
    "        data = np.genfromtxt(filename, delimiter=delimiter)\n",
    "        x = data[:,0]\n",
    "        y = data[:,1]\n",
    "    return x,y\n",
    "x,y = csv_reader(\"./csv_for_comp_chem.csv\", ';')\n",
    "plt.plot(x,y)"
   ]
  },
  {
   "cell_type": "code",
   "execution_count": 49,
   "metadata": {},
   "outputs": [
    {
     "data": {
      "text/plain": [
       "[<matplotlib.lines.Line2D at 0x221470bfa08>]"
      ]
     },
     "execution_count": 49,
     "metadata": {},
     "output_type": "execute_result"
    },
    {
     "data": {
      "image/png": "[encoded data removed]",
      "text/plain": [
       "<Figure size 432x288 with 1 Axes>"
      ]
     },
     "metadata": {
      "needs_background": "light"
     },
     "output_type": "display_data"
    }
   ],
   "source": [
    "#alternative \n",
    "import csv\n",
    "with open('new_csv.csv','w', newline='') as f:\n",
    "    writer = csv.writer(f)\n",
    "    writer.writerow(['x', 'y'])\n",
    "    for i in range(101):\n",
    "        writer.writerow([i,i*(i+1)])\n",
    "\n",
    "a,b = csv_reader(\"./new_csv.csv\", ',')\n",
    "plt.plot(a,b)"
   ]
  },
  {
   "attachments": {},
   "cell_type": "markdown",
   "metadata": {},
   "source": [
    "see csv_for_comp_chem.csv for excel diagramm"
   ]
  },
  {
   "cell_type": "code",
   "execution_count": null,
   "metadata": {},
   "outputs": [],
   "source": []
  }
 ],
 "metadata": {
  "kernelspec": {
   "display_name": "Python 3",
   "language": "python",
   "name": "python3"
  },
  "language_info": {
   "codemirror_mode": {
    "name": "ipython",
    "version": 3
   },
   "file_extension": ".py",
   "mimetype": "text/x-python",
   "name": "python",
   "nbconvert_exporter": "python",
   "pygments_lexer": "ipython3",
   "version": "3.7.4"
  }
 },
 "nbformat": 4,
 "nbformat_minor": 2
}