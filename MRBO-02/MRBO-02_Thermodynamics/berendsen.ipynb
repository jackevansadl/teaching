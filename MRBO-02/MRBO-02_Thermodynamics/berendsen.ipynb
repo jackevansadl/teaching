{
 "cells": [
  {
   "cell_type": "code",
   "execution_count": 26,
   "metadata": {},
   "outputs": [
    {
     "output_type": "stream",
     "name": "stdout",
     "text": "Energy per atom: Epot = -0.041eV  Ekin = 0.037eV (T=285K)  Etot = -0.005eV\nEnergy per atom: Epot = -0.041eV  Ekin = 0.037eV (T=285K)  Etot = -0.005eV\nEnergy per atom: Epot = -0.039eV  Ekin = 0.037eV (T=283K)  Etot = -0.002eV\nEnergy per atom: Epot = -0.032eV  Ekin = 0.036eV (T=281K)  Etot = 0.004eV\nEnergy per atom: Epot = -0.031eV  Ekin = 0.038eV (T=294K)  Etot = 0.007eV\nEnergy per atom: Epot = -0.031eV  Ekin = 0.038eV (T=294K)  Etot = 0.007eV\nEnergy per atom: Epot = -0.032eV  Ekin = 0.039eV (T=300K)  Etot = 0.007eV\nEnergy per atom: Epot = -0.031eV  Ekin = 0.039eV (T=298K)  Etot = 0.007eV\nEnergy per atom: Epot = -0.031eV  Ekin = 0.039eV (T=302K)  Etot = 0.008eV\nEnergy per atom: Epot = -0.030eV  Ekin = 0.039eV (T=302K)  Etot = 0.009eV\nEnergy per atom: Epot = -0.034eV  Ekin = 0.040eV (T=308K)  Etot = 0.006eV\nEnergy per atom: Epot = -0.031eV  Ekin = 0.038eV (T=292K)  Etot = 0.006eV\nEnergy per atom: Epot = -0.035eV  Ekin = 0.039eV (T=303K)  Etot = 0.005eV\nEnergy per atom: Epot = -0.035eV  Ekin = 0.039eV (T=303K)  Etot = 0.005eV\nEnergy per atom: Epot = -0.031eV  Ekin = 0.036eV (T=282K)  Etot = 0.006eV\nEnergy per atom: Epot = -0.032eV  Ekin = 0.040eV (T=307K)  Etot = 0.007eV\nEnergy per atom: Epot = -0.031eV  Ekin = 0.039eV (T=301K)  Etot = 0.008eV\nEnergy per atom: Epot = -0.032eV  Ekin = 0.039eV (T=299K)  Etot = 0.006eV\nEnergy per atom: Epot = -0.031eV  Ekin = 0.039eV (T=300K)  Etot = 0.008eV\nEnergy per atom: Epot = -0.033eV  Ekin = 0.039eV (T=303K)  Etot = 0.006eV\nEnergy per atom: Epot = -0.032eV  Ekin = 0.038eV (T=291K)  Etot = 0.005eV\nEnergy per atom: Epot = -0.032eV  Ekin = 0.039eV (T=304K)  Etot = 0.008eV\nEnergy per atom: Epot = -0.035eV  Ekin = 0.040eV (T=310K)  Etot = 0.005eV\nEnergy per atom: Epot = -0.034eV  Ekin = 0.038eV (T=297K)  Etot = 0.004eV\nEnergy per atom: Epot = -0.033eV  Ekin = 0.039eV (T=300K)  Etot = 0.005eV\nEnergy per atom: Epot = -0.034eV  Ekin = 0.039eV (T=302K)  Etot = 0.005eV\nEnergy per atom: Epot = -0.035eV  Ekin = 0.039eV (T=303K)  Etot = 0.004eV\nEnergy per atom: Epot = -0.032eV  Ekin = 0.038eV (T=292K)  Etot = 0.006eV\nEnergy per atom: Epot = -0.030eV  Ekin = 0.038eV (T=294K)  Etot = 0.008eV\nEnergy per atom: Epot = -0.032eV  Ekin = 0.040eV (T=312K)  Etot = 0.008eV\nEnergy per atom: Epot = -0.030eV  Ekin = 0.038eV (T=297K)  Etot = 0.008eV\nEnergy per atom: Epot = -0.036eV  Ekin = 0.041eV (T=316K)  Etot = 0.005eV\nEnergy per atom: Epot = -0.034eV  Ekin = 0.039eV (T=300K)  Etot = 0.005eV\nEnergy per atom: Epot = -0.032eV  Ekin = 0.038eV (T=295K)  Etot = 0.007eV\nEnergy per atom: Epot = -0.035eV  Ekin = 0.039eV (T=304K)  Etot = 0.005eV\nEnergy per atom: Epot = -0.033eV  Ekin = 0.038eV (T=296K)  Etot = 0.006eV\nEnergy per atom: Epot = -0.034eV  Ekin = 0.039eV (T=302K)  Etot = 0.005eV\nEnergy per atom: Epot = -0.033eV  Ekin = 0.038eV (T=296K)  Etot = 0.005eV\nEnergy per atom: Epot = -0.033eV  Ekin = 0.040eV (T=306K)  Etot = 0.006eV\nEnergy per atom: Epot = -0.030eV  Ekin = 0.037eV (T=287K)  Etot = 0.007eV\nEnergy per atom: Epot = -0.032eV  Ekin = 0.039eV (T=304K)  Etot = 0.008eV\nEnergy per atom: Epot = -0.033eV  Ekin = 0.040eV (T=307K)  Etot = 0.007eV\nEnergy per atom: Epot = -0.035eV  Ekin = 0.039eV (T=305K)  Etot = 0.005eV\nEnergy per atom: Epot = -0.033eV  Ekin = 0.039eV (T=298K)  Etot = 0.005eV\nEnergy per atom: Epot = -0.032eV  Ekin = 0.038eV (T=297K)  Etot = 0.006eV\nEnergy per atom: Epot = -0.033eV  Ekin = 0.039eV (T=301K)  Etot = 0.006eV\nEnergy per atom: Epot = -0.033eV  Ekin = 0.039eV (T=303K)  Etot = 0.006eV\nEnergy per atom: Epot = -0.034eV  Ekin = 0.039eV (T=305K)  Etot = 0.006eV\nEnergy per atom: Epot = -0.033eV  Ekin = 0.037eV (T=290K)  Etot = 0.004eV\nEnergy per atom: Epot = -0.032eV  Ekin = 0.039eV (T=300K)  Etot = 0.006eV\nEnergy per atom: Epot = -0.032eV  Ekin = 0.039eV (T=299K)  Etot = 0.006eV\nEnergy per atom: Epot = -0.032eV  Ekin = 0.038eV (T=295K)  Etot = 0.007eV\n"
    },
    {
     "output_type": "execute_result",
     "data": {
      "text/plain": "True"
     },
     "metadata": {},
     "execution_count": 26
    }
   ],
   "source": [
    "from ase.lattice.cubic import FaceCenteredCubic\n",
    "from ase.md.velocitydistribution import MaxwellBoltzmannDistribution\n",
    "from ase.md.verlet import VelocityVerlet\n",
    "from ase.io.trajectory import Trajectory\n",
    "from ase import units\n",
    "import numpy as np\n",
    "from ase import Atoms\n",
    "from ase.md.nvtberendsen import NVTBerendsen\n",
    "\n",
    "from ase.calculators.lj import LennardJones  # Way too slow with ase.EMT !\n",
    "size = 10\n",
    "\n",
    "T = 300  # Kelvin\n",
    "\n",
    "atoms = Atoms(['Ar'], positions=[[0,0,0]])\n",
    "\n",
    "\n",
    "# Set up an initial state\n",
    "# Determine side length of a box with the density\n",
    "d = 1.0 / 1e24 # Density in g/Ang3\n",
    "L = ((np.sum(atoms.get_masses()) / units.mol) / d)**(1 / 3.)\n",
    "\n",
    "# Set up box of 125 atoms \n",
    "atoms.set_cell((L, L, L))\n",
    "atoms.center()\n",
    "atoms = atoms.repeat((5, 5, 5))\n",
    "atoms.set_pbc(True)\n",
    "\n",
    "# Describe the interatomic interactions with LJ potential\n",
    "atoms.set_calculator(LennardJones(epsilon=0.01034,sigma=3.4))\n",
    "\n",
    "# set the momenta corresponding to T=300K\n",
    "MaxwellBoltzmannDistribution(atoms, 300 * units.kB)\n",
    "\n",
    "# constant energy using the VelocityVerlet algorithm.\n",
    "   dyn = NVTBerendsen(atoms, 1* units.fs, 300, taut=0.5*100*units.fs, trajectory=\"Ar_300_berensden.traj\")\n",
    "\n",
    "def printenergy(a=atoms):  # store a reference to atoms in the definition.\n",
    "    \"\"\"Function to print the potential, kinetic and total energy.\"\"\"\n",
    "    epot = a.get_potential_energy() / len(a)\n",
    "    ekin = a.get_kinetic_energy() / len(a)\n",
    "    print('Energy per atom: Epot = %.3feV  Ekin = %.3feV (T=%3.0fK)  '\n",
    "          'Etot = %.3feV' % (epot, ekin, ekin / (1.5 * units.kB), epot + ekin))\n",
    "\n",
    "# Now run the dynamics\n",
    "# need to run at 5000 steps to see more but we do 200 for simplicity\n",
    "dyn.attach(printenergy, interval=100)\n",
    "printenergy()\n",
    "dyn.run(200)"
   ]
  },
  {
   "cell_type": "code",
   "execution_count": null,
   "metadata": {},
   "outputs": [],
   "source": []
  }
 ],
 "metadata": {
  "language_info": {
   "codemirror_mode": {
    "name": "ipython",
    "version": 3
   },
   "file_extension": ".py",
   "mimetype": "text/x-python",
   "name": "python",
   "nbconvert_exporter": "python",
   "pygments_lexer": "ipython3",
   "version": "3.7.4-final"
  },
  "orig_nbformat": 2,
  "kernelspec": {
   "name": "python3",
   "display_name": "Python 3"
  }
 },
 "nbformat": 4,
 "nbformat_minor": 2
}