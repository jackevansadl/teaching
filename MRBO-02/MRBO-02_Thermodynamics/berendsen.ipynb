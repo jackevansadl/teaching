{
 "cells": [
  {
   "cell_type": "code",
   "execution_count": 1,
   "metadata": {},
   "outputs": [
    {
     "output_type": "error",
     "ename": "IndentationError",
     "evalue": "unexpected indent (<ipython-input-1-4fa2b3114ca4>, line 35)",
     "traceback": [
      "\u001b[0;36m  File \u001b[0;32m\"<ipython-input-1-4fa2b3114ca4>\"\u001b[0;36m, line \u001b[0;32m35\u001b[0m\n\u001b[0;31m    dyn = NVTBerendsen(atoms, 1* units.fs, 300, taut=100*units.fs, trajectory=\"Ar_300_MB.traj\")\u001b[0m\n\u001b[0m    ^\u001b[0m\n\u001b[0;31mIndentationError\u001b[0m\u001b[0;31m:\u001b[0m unexpected indent\n"
     ]
    }
   ],
   "source": [
    "from ase.lattice.cubic import FaceCenteredCubic\n",
    "from ase.md.velocitydistribution import MaxwellBoltzmannDistribution\n",
    "from ase.md.verlet import VelocityVerlet\n",
    "from ase.io.trajectory import Trajectory\n",
    "from ase import units\n",
    "import numpy as np\n",
    "from ase import Atoms\n",
    "from ase.md.nvtberendsen import NVTBerendsen\n",
    "\n",
    "from ase.calculators.lj import LennardJones  \n",
    "\n",
    "T = 300  # Kelvin\n",
    "\n",
    "atoms = Atoms(['Ar'], positions=[[0,0,0]])\n",
    "\n",
    "\n",
    "# Set up an initial state\n",
    "# Determine side length of a box with the density\n",
    "d = 1.0 / 1e24 # Density in g/Ang3\n",
    "L = ((np.sum(atoms.get_masses()) / units.mol) / d)**(1 / 3.)\n",
    "\n",
    "# Set up box of 125 atoms \n",
    "atoms.set_cell((L, L, L))\n",
    "atoms.center()\n",
    "atoms = atoms.repeat((5, 5, 5))\n",
    "atoms.set_pbc(True)\n",
    "\n",
    "# Describe the interatomic interactions with LJ potential\n",
    "atoms.set_calculator(LennardJones(epsilon=0.01034,sigma=3.4))\n",
    "\n",
    "# set the momenta corresponding to T=300K\n",
    "#MaxwellBoltzmannDistribution(atoms, 300 * units.kB)\n",
    "\n",
    "# constant energy using the VelocityVerlet algorithm.\n",
    "dyn = NVTBerendsen(atoms, 1* units.fs, 300, taut=100*units.fs, trajectory=\"Ar_300_MB.traj\")\n",
    "\n",
    "def printenergy(a=atoms):  # store a reference to atoms in the definition.\n",
    "    \"\"\"Function to print the potential, kinetic and total energy.\"\"\"\n",
    "    epot = a.get_potential_energy() / len(a)\n",
    "    ekin = a.get_kinetic_energy() / len(a)\n",
    "    print('Energy per atom: Epot = %.3feV  Ekin = %.3feV (T=%3.0fK)  '\n",
    "          'Etot = %.3feV' % (epot, ekin, ekin / (1.5 * units.kB), epot + ekin))\n",
    "\n",
    "# Now run the dynamics\n",
    "# need to run at 5000 steps to see more but we do 200 for simplicity\n",
    "dyn.attach(printenergy, interval=100)\n",
    "printenergy()\n",
    "dyn.run(2000)"
   ]
  },
  {
   "cell_type": "code",
   "execution_count": null,
   "metadata": {},
   "outputs": [],
   "source": []
  }
 ],
 "metadata": {
  "language_info": {
   "codemirror_mode": {
    "name": "ipython",
    "version": 3
   },
   "file_extension": ".py",
   "mimetype": "text/x-python",
   "name": "python",
   "nbconvert_exporter": "python",
   "pygments_lexer": "ipython3",
   "version": "3.7.4-final"
  },
  "orig_nbformat": 2,
  "kernelspec": {
   "name": "python3",
   "display_name": "Python 3"
  }
 },
 "nbformat": 4,
 "nbformat_minor": 2
}