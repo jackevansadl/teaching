{
 "cells": [
  {
   "cell_type": "code",
   "execution_count": null,
   "metadata": {},
   "outputs": [],
   "source": [
    "from ase.build import bulk\n",
    "from ase.calculators.emt import EMT\n",
    "from ase.phonons import Phonons\n",
    "\n",
    "# Setup crystal and EMT calculator\n",
    "atoms = bulk('Al', 'fcc', a=4.05)\n",
    "\n",
    "# Phonon calculator\n",
    "N = 7\n",
    "ph = Phonons(atoms, EMT(), supercell=(N, N, N), delta=0.05)\n",
    "ph.run()\n",
    "\n",
    "# Read forces and assemble the dynamical matrix\n",
    "ph.read(acoustic=True)\n",
    "ph.clean()\n",
    "\n",
    "path = atoms.cell.bandpath('GXULGK', npoints=100)\n",
    "bs = ph.get_band_structure(path)\n",
    "\n",
    "dos = ph.get_dos(kpts=(20, 20, 20)).sample_grid(npts=100, width=1e-3)\n",
    "\n",
    "# Plot the band structure and DOS:\n",
    "import matplotlib.pyplot as plt\n",
    "fig = plt.figure(1, figsize=(7, 4))\n",
    "ax = fig.add_axes([.12, .07, .67, .85])\n",
    "\n",
    "emax = 0.035\n",
    "bs.plot(ax=ax, emin=0.0, emax=emax)\n",
    "\n",
    "dosax = fig.add_axes([.8, .07, .17, .85])\n",
    "dosax.fill_between(dos.weights[0], dos.energy, y2=0, color='grey',\n",
    "                   edgecolor='k', lw=1)\n",
    "\n",
    "dosax.set_ylim(0, emax)\n",
    "dosax.set_yticks([])\n",
    "dosax.set_xticks([])\n",
    "dosax.set_xlabel(\"DOS\", fontsize=18)\n",
    "\n",
    "plt.show()"
   ]
  }
 ],
 "metadata": {
  "language_info": {
   "codemirror_mode": {
    "name": "ipython",
    "version": 3
   },
   "file_extension": ".py",
   "mimetype": "text/x-python",
   "name": "python",
   "nbconvert_exporter": "python",
   "pygments_lexer": "ipython3",
   "version": 3
  },
  "orig_nbformat": 2
 },
 "nbformat": 4,
 "nbformat_minor": 2
}