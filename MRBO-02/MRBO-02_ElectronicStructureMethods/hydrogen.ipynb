{
 "cells": [
  {
   "cell_type": "code",
   "execution_count": null,
   "metadata": {},
   "outputs": [],
   "source": [
    "from pyscf import gto\n",
    "mol = gto.Mole()\n",
    "mol.build(atom = '''O 0 0 0; H  0 1 0; H 0 0 1''', basis = 'sto-3g')\n",
    "\n",
    "mol.charge = 0\n",
    "mol.spin = 0 # 2j == nelec_alpha - nelec_beta\n",
    "mol.symmetry = 1\n",
    "\n",
    "mf = mol.apply('RHF').run()"
   ]
  }
 ],
 "metadata": {
  "language_info": {
   "codemirror_mode": {
    "name": "ipython",
    "version": 3
   },
   "file_extension": ".py",
   "mimetype": "text/x-python",
   "name": "python",
   "nbconvert_exporter": "python",
   "pygments_lexer": "ipython3",
   "version": 3
  },
  "orig_nbformat": 2
 },
 "nbformat": 4,
 "nbformat_minor": 2
}